{
  "cells": [
    {
      "cell_type": "code",
      "source": [
        "from google.colab import drive\n",
        "drive.mount('/content/drive')"
      ],
      "metadata": {
        "id": "2V-gBZCXB_cA",
        "outputId": "0c454d2f-528e-4436-da0d-ecd95a26f464",
        "colab": {
          "base_uri": "https://localhost:8080/"
        }
      },
      "execution_count": 2,
      "outputs": [
        {
          "output_type": "stream",
          "name": "stdout",
          "text": [
            "Drive already mounted at /content/drive; to attempt to forcibly remount, call drive.mount(\"/content/drive\", force_remount=True).\n"
          ]
        }
      ]
    },
    {
      "cell_type": "code",
      "source": [
        "pip install pydicom numpy scikit-image scipy matplotlib"
      ],
      "metadata": {
        "id": "dhRuRmbgCO1b",
        "outputId": "2b842623-4375-4ecd-d415-b509db0d23b3",
        "colab": {
          "base_uri": "https://localhost:8080/"
        }
      },
      "execution_count": 3,
      "outputs": [
        {
          "output_type": "stream",
          "name": "stdout",
          "text": [
            "Collecting pydicom\n",
            "  Downloading pydicom-3.0.1-py3-none-any.whl.metadata (9.4 kB)\n",
            "Requirement already satisfied: numpy in /usr/local/lib/python3.11/dist-packages (2.0.2)\n",
            "Requirement already satisfied: scikit-image in /usr/local/lib/python3.11/dist-packages (0.25.2)\n",
            "Requirement already satisfied: scipy in /usr/local/lib/python3.11/dist-packages (1.16.1)\n",
            "Requirement already satisfied: matplotlib in /usr/local/lib/python3.11/dist-packages (3.10.0)\n",
            "Requirement already satisfied: networkx>=3.0 in /usr/local/lib/python3.11/dist-packages (from scikit-image) (3.5)\n",
            "Requirement already satisfied: pillow>=10.1 in /usr/local/lib/python3.11/dist-packages (from scikit-image) (11.3.0)\n",
            "Requirement already satisfied: imageio!=2.35.0,>=2.33 in /usr/local/lib/python3.11/dist-packages (from scikit-image) (2.37.0)\n",
            "Requirement already satisfied: tifffile>=2022.8.12 in /usr/local/lib/python3.11/dist-packages (from scikit-image) (2025.6.11)\n",
            "Requirement already satisfied: packaging>=21 in /usr/local/lib/python3.11/dist-packages (from scikit-image) (25.0)\n",
            "Requirement already satisfied: lazy-loader>=0.4 in /usr/local/lib/python3.11/dist-packages (from scikit-image) (0.4)\n",
            "Requirement already satisfied: contourpy>=1.0.1 in /usr/local/lib/python3.11/dist-packages (from matplotlib) (1.3.3)\n",
            "Requirement already satisfied: cycler>=0.10 in /usr/local/lib/python3.11/dist-packages (from matplotlib) (0.12.1)\n",
            "Requirement already satisfied: fonttools>=4.22.0 in /usr/local/lib/python3.11/dist-packages (from matplotlib) (4.59.0)\n",
            "Requirement already satisfied: kiwisolver>=1.3.1 in /usr/local/lib/python3.11/dist-packages (from matplotlib) (1.4.9)\n",
            "Requirement already satisfied: pyparsing>=2.3.1 in /usr/local/lib/python3.11/dist-packages (from matplotlib) (3.2.3)\n",
            "Requirement already satisfied: python-dateutil>=2.7 in /usr/local/lib/python3.11/dist-packages (from matplotlib) (2.9.0.post0)\n",
            "Requirement already satisfied: six>=1.5 in /usr/local/lib/python3.11/dist-packages (from python-dateutil>=2.7->matplotlib) (1.17.0)\n",
            "Downloading pydicom-3.0.1-py3-none-any.whl (2.4 MB)\n",
            "\u001b[2K   \u001b[90m━━━━━━━━━━━━━━━━━━━━━━━━━━━━━━━━━━━━━━━━\u001b[0m \u001b[32m2.4/2.4 MB\u001b[0m \u001b[31m30.2 MB/s\u001b[0m eta \u001b[36m0:00:00\u001b[0m\n",
            "\u001b[?25hInstalling collected packages: pydicom\n",
            "Successfully installed pydicom-3.0.1\n"
          ]
        }
      ]
    },
    {
      "cell_type": "code",
      "source": [
        "import os\n",
        "import cv2\n",
        "import numpy as np\n",
        "from tqdm import tqdm\n",
        "import shutil\n",
        "from sklearn.model_selection import train_test_split\n",
        "\n",
        "# Paths\n",
        "raw_data_dir = \"/content/drive/MyDrive/lung cancer\"\n",
        "preprocessed_data_dir = \"/content/drive/MyDrive/lung cancer/preprocess_data\"\n",
        "\n",
        "# Parameters\n",
        "img_size = (224, 224)   # match Inception input\n",
        "channels = 3            # convert grayscale → RGB\n",
        "\n",
        "# Remove old preprocess folder if exists\n",
        "if os.path.exists(preprocessed_data_dir):\n",
        "    shutil.rmtree(preprocessed_data_dir)\n",
        "os.makedirs(preprocessed_data_dir, exist_ok=True)\n",
        "\n",
        "# Data & Labels\n",
        "data = []\n",
        "labels = []\n",
        "class_names = os.listdir(raw_data_dir)\n",
        "class_names.sort()  # keep consistent class order\n",
        "\n",
        "print(\"Classes:\", class_names)\n",
        "\n",
        "for label, class_name in enumerate(class_names):\n",
        "    class_path = os.path.join(raw_data_dir, class_name)\n",
        "    if os.path.isdir(class_path):\n",
        "        print(f\"Processing class: {class_name}\")\n",
        "\n",
        "        for img_name in tqdm(os.listdir(class_path)):\n",
        "            img_path = os.path.join(class_path, img_name)\n",
        "\n",
        "            # Read image (force grayscale)\n",
        "            img = cv2.imread(img_path, cv2.IMREAD_GRAYSCALE)\n",
        "            if img is None:\n",
        "                continue\n",
        "\n",
        "            # Resize\n",
        "            img = cv2.resize(img, img_size)\n",
        "\n",
        "            # Normalize [0,1]\n",
        "            img = img.astype(np.float32) / 255.0\n",
        "\n",
        "            # Convert to 3 channels\n",
        "            img = cv2.cvtColor(img, cv2.COLOR_GRAY2RGB)\n",
        "\n",
        "            # Store\n",
        "            data.append(img)\n",
        "            labels.append(label)\n",
        "\n",
        "# Convert to arrays\n",
        "data = np.array(data, dtype=np.float32)\n",
        "labels = np.array(labels)\n",
        "\n",
        "print(\"✅ Total data shape:\", data.shape)   # (N, 224, 224, 3)\n",
        "print(\"✅ Labels shape:\", labels.shape)\n",
        "\n",
        "# --- Train / Val / Test Split ---\n",
        "X_train, X_temp, y_train, y_temp = train_test_split(\n",
        "    data, labels, test_size=0.3, stratify=labels, random_state=42\n",
        ")\n",
        "X_val, X_test, y_val, y_test = train_test_split(\n",
        "    X_temp, y_temp, test_size=0.5, stratify=y_temp, random_state=42\n",
        ")\n",
        "\n",
        "print(\"✅ Train:\", X_train.shape, y_train.shape)\n",
        "print(\"✅ Val:\", X_val.shape, y_val.shape)\n",
        "print(\"✅ Test:\", X_test.shape, y_test.shape)\n",
        "\n",
        "# Save splits\n",
        "np.save(os.path.join(preprocessed_data_dir, \"X_train.npy\"), X_train)\n",
        "np.save(os.path.join(preprocessed_data_dir, \"y_train.npy\"), y_train)\n",
        "np.save(os.path.join(preprocessed_data_dir, \"X_val.npy\"), X_val)\n",
        "np.save(os.path.join(preprocessed_data_dir, \"y_val.npy\"), y_val)\n",
        "np.save(os.path.join(preprocessed_data_dir, \"X_test.npy\"), X_test)\n",
        "np.save(os.path.join(preprocessed_data_dir, \"y_test.npy\"), y_test)\n",
        "\n",
        "print(\"✅ Preprocessed train/val/test datasets saved in:\", preprocessed_data_dir)\n"
      ],
      "metadata": {
        "id": "3iHQnM7lGz3Y",
        "outputId": "b032f8dc-d431-404f-e62d-7470515ebf9c",
        "colab": {
          "base_uri": "https://localhost:8080/"
        }
      },
      "execution_count": 11,
      "outputs": [
        {
          "output_type": "stream",
          "name": "stdout",
          "text": [
            "Classes: ['Bengin cases', 'Malignant cases', 'Normal cases', 'preprocess data', 'preprocess_data']\n",
            "Processing class: Bengin cases\n"
          ]
        },
        {
          "output_type": "stream",
          "name": "stderr",
          "text": [
            "100%|██████████| 467/467 [00:11<00:00, 40.21it/s]\n"
          ]
        },
        {
          "output_type": "stream",
          "name": "stdout",
          "text": [
            "Processing class: Malignant cases\n"
          ]
        },
        {
          "output_type": "stream",
          "name": "stderr",
          "text": [
            "100%|██████████| 1050/1050 [00:45<00:00, 23.15it/s] \n"
          ]
        },
        {
          "output_type": "stream",
          "name": "stdout",
          "text": [
            "Processing class: Normal cases\n"
          ]
        },
        {
          "output_type": "stream",
          "name": "stderr",
          "text": [
            "100%|██████████| 416/416 [00:12<00:00, 33.25it/s]\n"
          ]
        },
        {
          "output_type": "stream",
          "name": "stdout",
          "text": [
            "Processing class: preprocess data\n"
          ]
        },
        {
          "output_type": "stream",
          "name": "stderr",
          "text": [
            "0it [00:00, ?it/s]\n"
          ]
        },
        {
          "output_type": "stream",
          "name": "stdout",
          "text": [
            "Processing class: preprocess_data\n"
          ]
        },
        {
          "output_type": "stream",
          "name": "stderr",
          "text": [
            "0it [00:00, ?it/s]\n"
          ]
        },
        {
          "output_type": "stream",
          "name": "stdout",
          "text": [
            "✅ Total data shape: (1933, 224, 224, 3)\n",
            "✅ Labels shape: (1933,)\n",
            "✅ Train: (1353, 224, 224, 3) (1353,)\n",
            "✅ Val: (290, 224, 224, 3) (290,)\n",
            "✅ Test: (290, 224, 224, 3) (290,)\n",
            "✅ Preprocessed train/val/test datasets saved in: /content/drive/MyDrive/lung cancer/preprocess_data\n"
          ]
        }
      ]
    },
    {
      "cell_type": "code",
      "source": [
        "import os\n",
        "import cv2\n",
        "import numpy as np\n",
        "from tqdm import tqdm\n",
        "import shutil\n",
        "from sklearn.model_selection import train_test_split\n",
        "import tensorflow as tf\n",
        "from tensorflow import keras\n",
        "from tensorflow.keras import layers\n",
        "\n",
        "# ============================================================\n",
        "# CONFIG\n",
        "# ============================================================\n",
        "raw_data_dir = \"/content/drive/MyDrive/lung cancer\"\n",
        "preprocessed_data_dir = \"/content/drive/MyDrive/lung cancer/preprocess_data_seq\"\n",
        "\n",
        "img_size = (224, 224)\n",
        "channels = 3\n",
        "sequence_length = 8   # number of slices per patient\n",
        "seed = 42\n",
        "batch_size = 8\n",
        "epochs = 30\n",
        "\n",
        "AUTOTUNE = tf.data.AUTOTUNE\n",
        "\n",
        "# ============================================================\n",
        "# STEP 1: PREPROCESS INTO SEQUENCES\n",
        "# ============================================================\n",
        "if os.path.exists(preprocessed_data_dir):\n",
        "    shutil.rmtree(preprocessed_data_dir)\n",
        "os.makedirs(preprocessed_data_dir, exist_ok=True)\n",
        "\n",
        "data = []\n",
        "labels = []\n",
        "class_names = sorted(os.listdir(raw_data_dir))\n",
        "\n",
        "print(\"Classes:\", class_names)\n",
        "\n",
        "for label, class_name in enumerate(class_names):\n",
        "    class_path = os.path.join(raw_data_dir, class_name)\n",
        "    if os.path.isdir(class_path):\n",
        "        print(f\"Processing class: {class_name}\")\n",
        "\n",
        "        patient_folders = [os.path.join(class_path, f) for f in os.listdir(class_path)]\n",
        "        for patient in tqdm(patient_folders):\n",
        "            if os.path.isdir(patient):\n",
        "                slice_imgs = []\n",
        "                for img_name in sorted(os.listdir(patient))[:sequence_length]:\n",
        "                    img_path = os.path.join(patient, img_name)\n",
        "                    img = cv2.imread(img_path, cv2.IMREAD_GRAYSCALE)\n",
        "                    if img is None: continue\n",
        "                    img = cv2.resize(img, img_size)\n",
        "                    img = img.astype(np.float32) / 255.0\n",
        "                    img = cv2.cvtColor(img, cv2.COLOR_GRAY2RGB)\n",
        "                    slice_imgs.append(img)\n",
        "\n",
        "                # Pad if patient has < sequence_length slices\n",
        "                while len(slice_imgs) < sequence_length:\n",
        "                    slice_imgs.append(np.zeros((224,224,3), dtype=np.float32))\n",
        "\n",
        "                data.append(np.array(slice_imgs))\n",
        "                labels.append(label)\n",
        "\n",
        "data = np.array(data, dtype=np.float32)\n",
        "labels = np.array(labels)\n",
        "\n",
        "print(\"✅ Data shape:\", data.shape)   # (N, T, 224, 224, 3)\n",
        "print(\"✅ Labels shape:\", labels.shape)\n",
        "\n",
        "# ============================================================\n",
        "# STEP 2: TRAIN/VAL/TEST SPLIT\n",
        "# ============================================================\n",
        "X_train, X_temp, y_train, y_temp = train_test_split(\n",
        "    data, labels, test_size=0.3, stratify=labels, random_state=seed\n",
        ")\n",
        "X_val, X_test, y_val, y_test = train_test_split(\n",
        "    X_temp, y_temp, test_size=0.5, stratify=y_temp, random_state=seed\n",
        ")\n",
        "\n",
        "print(\"Train:\", X_train.shape, y_train.shape)\n",
        "print(\"Val:\", X_val.shape, y_val.shape)\n",
        "print(\"Test:\", X_test.shape, y_test.shape)\n",
        "\n",
        "# ============================================================\n",
        "# STEP 3: DATA PIPELINE\n",
        "# ============================================================\n",
        "def make_ds(X, y, training=False):\n",
        "    ds = tf.data.Dataset.from_tensor_slices((X, y))\n",
        "    if training:\n",
        "        ds = ds.shuffle(512, seed=seed, reshuffle_each_iteration=True)\n",
        "\n",
        "    def _prep(x, y):\n",
        "        return x, tf.one_hot(y, depth=len(class_names))\n",
        "\n",
        "    ds = ds.map(_prep, num_parallel_calls=AUTOTUNE, deterministic=not training)\n",
        "    ds = ds.batch(batch_size).prefetch(AUTOTUNE)\n",
        "    return ds\n",
        "\n",
        "train_ds = make_ds(X_train, y_train, training=True)\n",
        "val_ds   = make_ds(X_val, y_val, training=False)\n",
        "test_ds  = make_ds(X_test, y_test, training=False)\n",
        "\n",
        "# ============================================================\n",
        "# STEP 4: MODEL - Inception CNN + LSTM\n",
        "# ============================================================\n",
        "base_cnn = keras.applications.InceptionV3(\n",
        "    include_top=False, weights=\"imagenet\", pooling=\"avg\", input_shape=(224,224,3)\n",
        ")\n",
        "\n",
        "base_cnn.trainable = False  # fine-tune later if needed\n",
        "\n",
        "def build_model(sequence_length=sequence_length, n_classes=len(class_names)):\n",
        "    inputs = keras.Input((sequence_length, 224, 224, 3))\n",
        "\n",
        "    # CNN encoder applied to each slice\n",
        "    encoded = layers.TimeDistributed(base_cnn)(inputs)\n",
        "\n",
        "    # LSTM over sequence of slice embeddings\n",
        "    x = layers.Bidirectional(layers.LSTM(128, return_sequences=False))(encoded)\n",
        "    x = layers.Dropout(0.5)(x)\n",
        "    x = layers.Dense(128, activation=\"relu\")(x)\n",
        "    outputs = layers.Dense(n_classes, activation=\"softmax\")(x)\n",
        "\n",
        "    model = keras.Model(inputs, outputs)\n",
        "    return model\n",
        "\n",
        "model = build_model()\n",
        "model.summary()\n",
        "\n",
        "# ============================================================\n",
        "# STEP 5: TRAINING\n",
        "# ============================================================\n",
        "opt = keras.optimizers.Adam(1e-4)\n",
        "model.compile(\n",
        "    optimizer=opt,\n",
        "    loss=\"categorical_crossentropy\",\n",
        "    metrics=[\n",
        "        \"accuracy\",\n",
        "        keras.metrics.AUC(name=\"auc\"),\n",
        "        keras.metrics.Precision(name=\"precision\"),\n",
        "        keras.metrics.Recall(name=\"recall\")\n",
        "    ]\n",
        ")\n",
        "\n",
        "cbs = [\n",
        "    keras.callbacks.ModelCheckpoint(\n",
        "        \"/content/drive/MyDrive/lung cancer/best_cnn_inception_lstm_seq.keras\",\n",
        "        save_best_only=True,\n",
        "        monitor=\"val_auc\",\n",
        "        mode=\"max\"\n",
        "    ),\n",
        "    keras.callbacks.EarlyStopping(monitor=\"val_auc\", patience=5, mode=\"max\", restore_best_weights=True)\n",
        "]\n",
        "\n",
        "history = model.fit(\n",
        "    train_ds,\n",
        "    validation_data=val_ds,\n",
        "    epochs=epochs,\n",
        "    callbacks=cbs,\n",
        "    verbose=1\n",
        ")\n",
        "\n",
        "# ============================================================\n",
        "# STEP 6: EVALUATION\n",
        "# ============================================================\n",
        "results = model.evaluate(test_ds)\n",
        "print(\"✅ Test Results:\", dict(zip(model.metrics_names, results)))\n"
      ],
      "metadata": {
        "id": "P3cnYcHO1CGM",
        "outputId": "7d07cc08-7a6e-4198-c315-67d2fbea42b8",
        "colab": {
          "base_uri": "https://localhost:8080/",
          "height": 652
        }
      },
      "execution_count": 15,
      "outputs": [
        {
          "output_type": "stream",
          "name": "stdout",
          "text": [
            "Classes: ['Bengin cases', 'Malignant cases', 'Normal cases', 'best_cnn_inception_lstm.keras', 'preprocess data', 'preprocess_data', 'preprocess_data_seq']\n",
            "Processing class: Bengin cases\n"
          ]
        },
        {
          "output_type": "stream",
          "name": "stderr",
          "text": [
            "100%|██████████| 467/467 [00:00<00:00, 5985.27it/s]\n"
          ]
        },
        {
          "output_type": "stream",
          "name": "stdout",
          "text": [
            "Processing class: Malignant cases\n"
          ]
        },
        {
          "output_type": "stream",
          "name": "stderr",
          "text": [
            "100%|██████████| 1050/1050 [00:00<00:00, 5872.40it/s]\n"
          ]
        },
        {
          "output_type": "stream",
          "name": "stdout",
          "text": [
            "Processing class: Normal cases\n"
          ]
        },
        {
          "output_type": "stream",
          "name": "stderr",
          "text": [
            "100%|██████████| 416/416 [00:00<00:00, 6547.08it/s]\n"
          ]
        },
        {
          "output_type": "stream",
          "name": "stdout",
          "text": [
            "Processing class: preprocess data\n"
          ]
        },
        {
          "output_type": "stream",
          "name": "stderr",
          "text": [
            "0it [00:00, ?it/s]\n"
          ]
        },
        {
          "output_type": "stream",
          "name": "stdout",
          "text": [
            "Processing class: preprocess_data\n"
          ]
        },
        {
          "output_type": "stream",
          "name": "stderr",
          "text": [
            "100%|██████████| 6/6 [00:00<00:00, 3385.69it/s]\n"
          ]
        },
        {
          "output_type": "stream",
          "name": "stdout",
          "text": [
            "Processing class: preprocess_data_seq\n"
          ]
        },
        {
          "output_type": "stream",
          "name": "stderr",
          "text": [
            "0it [00:00, ?it/s]\n"
          ]
        },
        {
          "output_type": "stream",
          "name": "stdout",
          "text": [
            "✅ Data shape: (0,)\n",
            "✅ Labels shape: (0,)\n"
          ]
        },
        {
          "output_type": "error",
          "ename": "ValueError",
          "evalue": "With n_samples=0, test_size=0.3 and train_size=None, the resulting train set will be empty. Adjust any of the aforementioned parameters.",
          "traceback": [
            "\u001b[0;31m---------------------------------------------------------------------------\u001b[0m",
            "\u001b[0;31mValueError\u001b[0m                                Traceback (most recent call last)",
            "\u001b[0;32m/tmp/ipython-input-3162822507.py\u001b[0m in \u001b[0;36m<cell line: 0>\u001b[0;34m()\u001b[0m\n\u001b[1;32m     71\u001b[0m \u001b[0;31m# STEP 2: TRAIN/VAL/TEST SPLIT\u001b[0m\u001b[0;34m\u001b[0m\u001b[0;34m\u001b[0m\u001b[0m\n\u001b[1;32m     72\u001b[0m \u001b[0;31m# ============================================================\u001b[0m\u001b[0;34m\u001b[0m\u001b[0;34m\u001b[0m\u001b[0m\n\u001b[0;32m---> 73\u001b[0;31m X_train, X_temp, y_train, y_temp = train_test_split(\n\u001b[0m\u001b[1;32m     74\u001b[0m     \u001b[0mdata\u001b[0m\u001b[0;34m,\u001b[0m \u001b[0mlabels\u001b[0m\u001b[0;34m,\u001b[0m \u001b[0mtest_size\u001b[0m\u001b[0;34m=\u001b[0m\u001b[0;36m0.3\u001b[0m\u001b[0;34m,\u001b[0m \u001b[0mstratify\u001b[0m\u001b[0;34m=\u001b[0m\u001b[0mlabels\u001b[0m\u001b[0;34m,\u001b[0m \u001b[0mrandom_state\u001b[0m\u001b[0;34m=\u001b[0m\u001b[0mseed\u001b[0m\u001b[0;34m\u001b[0m\u001b[0;34m\u001b[0m\u001b[0m\n\u001b[1;32m     75\u001b[0m )\n",
            "\u001b[0;32m/usr/local/lib/python3.11/dist-packages/sklearn/utils/_param_validation.py\u001b[0m in \u001b[0;36mwrapper\u001b[0;34m(*args, **kwargs)\u001b[0m\n\u001b[1;32m    214\u001b[0m                     )\n\u001b[1;32m    215\u001b[0m                 ):\n\u001b[0;32m--> 216\u001b[0;31m                     \u001b[0;32mreturn\u001b[0m \u001b[0mfunc\u001b[0m\u001b[0;34m(\u001b[0m\u001b[0;34m*\u001b[0m\u001b[0margs\u001b[0m\u001b[0;34m,\u001b[0m \u001b[0;34m**\u001b[0m\u001b[0mkwargs\u001b[0m\u001b[0;34m)\u001b[0m\u001b[0;34m\u001b[0m\u001b[0;34m\u001b[0m\u001b[0m\n\u001b[0m\u001b[1;32m    217\u001b[0m             \u001b[0;32mexcept\u001b[0m \u001b[0mInvalidParameterError\u001b[0m \u001b[0;32mas\u001b[0m \u001b[0me\u001b[0m\u001b[0;34m:\u001b[0m\u001b[0;34m\u001b[0m\u001b[0;34m\u001b[0m\u001b[0m\n\u001b[1;32m    218\u001b[0m                 \u001b[0;31m# When the function is just a wrapper around an estimator, we allow\u001b[0m\u001b[0;34m\u001b[0m\u001b[0;34m\u001b[0m\u001b[0m\n",
            "\u001b[0;32m/usr/local/lib/python3.11/dist-packages/sklearn/model_selection/_split.py\u001b[0m in \u001b[0;36mtrain_test_split\u001b[0;34m(test_size, train_size, random_state, shuffle, stratify, *arrays)\u001b[0m\n\u001b[1;32m   2849\u001b[0m \u001b[0;34m\u001b[0m\u001b[0m\n\u001b[1;32m   2850\u001b[0m     \u001b[0mn_samples\u001b[0m \u001b[0;34m=\u001b[0m \u001b[0m_num_samples\u001b[0m\u001b[0;34m(\u001b[0m\u001b[0marrays\u001b[0m\u001b[0;34m[\u001b[0m\u001b[0;36m0\u001b[0m\u001b[0;34m]\u001b[0m\u001b[0;34m)\u001b[0m\u001b[0;34m\u001b[0m\u001b[0;34m\u001b[0m\u001b[0m\n\u001b[0;32m-> 2851\u001b[0;31m     n_train, n_test = _validate_shuffle_split(\n\u001b[0m\u001b[1;32m   2852\u001b[0m         \u001b[0mn_samples\u001b[0m\u001b[0;34m,\u001b[0m \u001b[0mtest_size\u001b[0m\u001b[0;34m,\u001b[0m \u001b[0mtrain_size\u001b[0m\u001b[0;34m,\u001b[0m \u001b[0mdefault_test_size\u001b[0m\u001b[0;34m=\u001b[0m\u001b[0;36m0.25\u001b[0m\u001b[0;34m\u001b[0m\u001b[0;34m\u001b[0m\u001b[0m\n\u001b[1;32m   2853\u001b[0m     )\n",
            "\u001b[0;32m/usr/local/lib/python3.11/dist-packages/sklearn/model_selection/_split.py\u001b[0m in \u001b[0;36m_validate_shuffle_split\u001b[0;34m(n_samples, test_size, train_size, default_test_size)\u001b[0m\n\u001b[1;32m   2479\u001b[0m \u001b[0;34m\u001b[0m\u001b[0m\n\u001b[1;32m   2480\u001b[0m     \u001b[0;32mif\u001b[0m \u001b[0mn_train\u001b[0m \u001b[0;34m==\u001b[0m \u001b[0;36m0\u001b[0m\u001b[0;34m:\u001b[0m\u001b[0;34m\u001b[0m\u001b[0;34m\u001b[0m\u001b[0m\n\u001b[0;32m-> 2481\u001b[0;31m         raise ValueError(\n\u001b[0m\u001b[1;32m   2482\u001b[0m             \u001b[0;34m\"With n_samples={}, test_size={} and train_size={}, the \"\u001b[0m\u001b[0;34m\u001b[0m\u001b[0;34m\u001b[0m\u001b[0m\n\u001b[1;32m   2483\u001b[0m             \u001b[0;34m\"resulting train set will be empty. Adjust any of the \"\u001b[0m\u001b[0;34m\u001b[0m\u001b[0;34m\u001b[0m\u001b[0m\n",
            "\u001b[0;31mValueError\u001b[0m: With n_samples=0, test_size=0.3 and train_size=None, the resulting train set will be empty. Adjust any of the aforementioned parameters."
          ]
        }
      ]
    },
    {
      "cell_type": "code",
      "source": [
        "# ============================================================\n",
        "# STEP 1: PREPROCESS INTO SEQUENCES (FIXED)\n",
        "# ============================================================\n",
        "valid_classes = [\"Bengin cases\", \"Malignant cases\", \"Normal cases\"]  # only real classes\n",
        "\n",
        "data = []\n",
        "labels = []\n",
        "\n",
        "for label, class_name in enumerate(valid_classes):\n",
        "    class_path = os.path.join(raw_data_dir, class_name)\n",
        "    print(f\"Processing class: {class_name}\")\n",
        "\n",
        "    # Each patient is a folder inside the class\n",
        "    patient_folders = [os.path.join(class_path, f) for f in os.listdir(class_path)]\n",
        "    for patient in tqdm(patient_folders):\n",
        "        if os.path.isdir(patient):\n",
        "            slice_imgs = []\n",
        "            for img_name in sorted(os.listdir(patient))[:sequence_length]:\n",
        "                img_path = os.path.join(patient, img_name)\n",
        "                img = cv2.imread(img_path, cv2.IMREAD_GRAYSCALE)\n",
        "                if img is None:\n",
        "                    continue\n",
        "                img = cv2.resize(img, img_size)\n",
        "                img = img.astype(np.float32) / 255.0\n",
        "                img = cv2.cvtColor(img, cv2.COLOR_GRAY2RGB)\n",
        "                slice_imgs.append(img)\n",
        "\n",
        "            # Pad if fewer slices than required\n",
        "            while len(slice_imgs) < sequence_length:\n",
        "                slice_imgs.append(np.zeros((224,224,3), dtype=np.float32))\n",
        "\n",
        "            data.append(np.array(slice_imgs))\n",
        "            labels.append(label)\n",
        "\n",
        "data = np.array(data, dtype=np.float32)\n",
        "labels = np.array(labels)\n",
        "\n",
        "print(\"✅ Data shape:\", data.shape)   # should be (N, T, 224, 224, 3)\n",
        "print(\"✅ Labels shape:\", labels.shape)\n"
      ],
      "metadata": {
        "id": "Mx-hj0h81d8s",
        "outputId": "83a5d344-96dc-4fa5-e504-97aab34bd5f7",
        "colab": {
          "base_uri": "https://localhost:8080/"
        }
      },
      "execution_count": 16,
      "outputs": [
        {
          "output_type": "stream",
          "name": "stdout",
          "text": [
            "Processing class: Bengin cases\n"
          ]
        },
        {
          "output_type": "stream",
          "name": "stderr",
          "text": [
            "100%|██████████| 467/467 [00:00<00:00, 5784.48it/s]\n"
          ]
        },
        {
          "output_type": "stream",
          "name": "stdout",
          "text": [
            "Processing class: Malignant cases\n"
          ]
        },
        {
          "output_type": "stream",
          "name": "stderr",
          "text": [
            "100%|██████████| 1050/1050 [00:00<00:00, 6250.78it/s]\n"
          ]
        },
        {
          "output_type": "stream",
          "name": "stdout",
          "text": [
            "Processing class: Normal cases\n"
          ]
        },
        {
          "output_type": "stream",
          "name": "stderr",
          "text": [
            "100%|██████████| 416/416 [00:00<00:00, 9217.62it/s]"
          ]
        },
        {
          "output_type": "stream",
          "name": "stdout",
          "text": [
            "✅ Data shape: (0,)\n",
            "✅ Labels shape: (0,)\n"
          ]
        },
        {
          "output_type": "stream",
          "name": "stderr",
          "text": [
            "\n"
          ]
        }
      ]
    },
    {
      "cell_type": "code",
      "source": [
        "valid_classes = [\"Bengin cases\", \"Malignant cases\", \"Normal cases\"]\n"
      ],
      "metadata": {
        "id": "2tOrrSxb1k0f"
      },
      "execution_count": 17,
      "outputs": []
    },
    {
      "cell_type": "code",
      "source": [
        "import os\n",
        "import cv2\n",
        "import numpy as np\n",
        "from tqdm import tqdm\n",
        "import shutil\n",
        "from sklearn.model_selection import train_test_split\n",
        "import tensorflow as tf\n",
        "from tensorflow import keras\n",
        "from tensorflow.keras import layers\n",
        "\n",
        "# ============================================================\n",
        "# CONFIG\n",
        "# ============================================================\n",
        "raw_data_dir = \"/content/drive/MyDrive/lung cancer\"\n",
        "preprocessed_data_dir = \"/content/drive/MyDrive/lung cancer/preprocess_data_seq\"\n",
        "\n",
        "img_size = (224, 224)\n",
        "channels = 3\n",
        "sequence_length = 8   # number of slices per patient\n",
        "seed = 42\n",
        "batch_size = 8\n",
        "epochs = 30\n",
        "\n",
        "AUTOTUNE = tf.data.AUTOTUNE\n",
        "\n",
        "# ============================================================\n",
        "# STEP 1: PREPROCESS INTO SEQUENCES\n",
        "# ============================================================\n",
        "valid_classes = [\"Bengin cases\", \"Malignant cases\", \"Normal cases\"]\n",
        "\n",
        "if os.path.exists(preprocessed_data_dir):\n",
        "    shutil.rmtree(preprocessed_data_dir)\n",
        "os.makedirs(preprocessed_data_dir, exist_ok=True)\n",
        "\n",
        "data = []\n",
        "labels = []\n",
        "\n",
        "for label, class_name in enumerate(valid_classes):\n",
        "    class_path = os.path.join(raw_data_dir, class_name)\n",
        "    print(f\"Processing class: {class_name}\")\n",
        "\n",
        "    # each patient is a folder inside the class\n",
        "    patient_folders = [os.path.join(class_path, f) for f in os.listdir(class_path)]\n",
        "    for patient in tqdm(patient_folders):\n",
        "        if os.path.isdir(patient):\n",
        "            slice_imgs = []\n",
        "            for img_name in sorted(os.listdir(patient))[:sequence_length]:\n",
        "                img_path = os.path.join(patient, img_name)\n",
        "\n",
        "                # skip non-image files\n",
        "                if not img_name.lower().endswith(('.png', '.jpg', '.jpeg')):\n",
        "                    continue\n",
        "\n",
        "                img = cv2.imread(img_path, cv2.IMREAD_GRAYSCALE)\n",
        "                if img is None:\n",
        "                    continue\n",
        "                img = cv2.resize(img, img_size)\n",
        "                img = img.astype(np.float32) / 255.0\n",
        "                img = cv2.cvtColor(img, cv2.COLOR_GRAY2RGB)\n",
        "                slice_imgs.append(img)\n",
        "\n",
        "            # Pad if patient has < sequence_length slices\n",
        "            while len(slice_imgs) < sequence_length:\n",
        "                slice_imgs.append(np.zeros((224,224,3), dtype=np.float32))\n",
        "\n",
        "            if len(slice_imgs) == sequence_length:  # only add if sequence is complete\n",
        "                data.append(np.array(slice_imgs))\n",
        "                labels.append(label)\n",
        "\n",
        "data = np.array(data, dtype=np.float32)\n",
        "labels = np.array(labels)\n",
        "\n",
        "print(\"✅ Data shape:\", data.shape)   # (N, T, 224, 224, 3)\n",
        "print(\"✅ Labels shape:\", labels.shape)\n",
        "\n",
        "# ============================================================\n",
        "# STEP 2: TRAIN/VAL/TEST SPLIT\n",
        "# ============================================================\n",
        "X_train, X_temp, y_train, y_temp = train_test_split(\n",
        "    data, labels, test_size=0.3, stratify=labels, random_state=seed\n",
        ")\n",
        "X_val, X_test, y_val, y_test = train_test_split(\n",
        "    X_temp, y_temp, test_size=0.5, stratify=y_temp, random_state=seed\n",
        ")\n",
        "\n",
        "print(\"Train:\", X_train.shape, y_train.shape)\n",
        "print(\"Val:\", X_val.shape, y_val.shape)\n",
        "print(\"Test:\", X_test.shape, y_test.shape)\n",
        "\n",
        "# ============================================================\n",
        "# STEP 3: DATA PIPELINE\n",
        "# ============================================================\n",
        "def make_ds(X, y, training=False):\n",
        "    ds = tf.data.Dataset.from_tensor_slices((X, y))\n",
        "    if training:\n",
        "        ds = ds.shuffle(512, seed=seed, reshuffle_each_iteration=True)\n",
        "\n",
        "    def _prep(x, y):\n",
        "        return x, tf.one_hot(y, depth=len(valid_classes))\n",
        "\n",
        "    ds = ds.map(_prep, num_parallel_calls=AUTOTUNE, deterministic=not training)\n",
        "    ds = ds.batch(batch_size).prefetch(AUTOTUNE)\n",
        "    return ds\n",
        "\n",
        "train_ds = make_ds(X_train, y_train, training=True)\n",
        "val_ds   = make_ds(X_val, y_val, training=False)\n",
        "test_ds  = make_ds(X_test, y_test, training=False)\n",
        "\n",
        "# ============================================================\n",
        "# STEP 4: MODEL - Inception CNN + LSTM\n",
        "# ============================================================\n",
        "base_cnn = keras.applications.InceptionV3(\n",
        "    include_top=False, weights=\"imagenet\", pooling=\"avg\", input_shape=(224,224,3)\n",
        ")\n",
        "base_cnn.trainable = False  # fine-tune later if needed\n",
        "\n",
        "def build_model(sequence_length=sequence_length, n_classes=len(valid_classes)):\n",
        "    inputs = keras.Input((sequence_length, 224, 224, 3))\n",
        "\n",
        "    # CNN encoder applied to each slice\n",
        "    encoded = layers.TimeDistributed(base_cnn)(inputs)\n",
        "\n",
        "    # LSTM over sequence of slice embeddings\n",
        "    x = layers.Bidirectional(layers.LSTM(128, return_sequences=False))(encoded)\n",
        "    x = layers.Dropout(0.5)(x)\n",
        "    x = layers.Dense(128, activation=\"relu\")(x)\n",
        "    outputs = layers.Dense(n_classes, activation=\"softmax\")(x)\n",
        "\n",
        "    model = keras.Model(inputs, outputs)\n",
        "    return model\n",
        "\n",
        "model = build_model()\n",
        "model.summary()\n",
        "\n",
        "# ============================================================\n",
        "# STEP 5: TRAINING\n",
        "# ============================================================\n",
        "opt = keras.optimizers.Adam(1e-4)\n",
        "model.compile(\n",
        "    optimizer=opt,\n",
        "    loss=\"categorical_crossentropy\",\n",
        "    metrics=[\n",
        "        \"accuracy\",\n",
        "        keras.metrics.AUC(name=\"auc\"),\n",
        "        keras.metrics.Precision(name=\"precision\"),\n",
        "        keras.metrics.Recall(name=\"recall\")\n",
        "    ]\n",
        ")\n",
        "\n",
        "cbs = [\n",
        "    keras.callbacks.ModelCheckpoint(\n",
        "        \"/content/drive/MyDrive/lung cancer/best_cnn_inception_lstm_seq.keras\",\n",
        "        save_best_only=True,\n",
        "        monitor=\"val_auc\",\n",
        "        mode=\"max\"\n",
        "    ),\n",
        "    keras.callbacks.EarlyStopping(monitor=\"val_auc\", patience=5, mode=\"max\", restore_best_weights=True)\n",
        "]\n",
        "\n",
        "history = model.fit(\n",
        "    train_ds,\n",
        "    validation_data=val_ds,\n",
        "    epochs=epochs,\n",
        "    callbacks=cbs,\n",
        "    verbose=1\n",
        ")\n",
        "\n",
        "# ============================================================\n",
        "# STEP 6: EVALUATION\n",
        "# ============================================================\n",
        "results = model.evaluate(test_ds)\n",
        "print(\"✅ Test Results:\", dict(zip(model.metrics_names, results)))\n"
      ],
      "metadata": {
        "id": "sRXRCIEz12L7",
        "outputId": "170b46bc-fdee-4ac7-93f0-3bb5c687a3c8",
        "colab": {
          "base_uri": "https://localhost:8080/",
          "height": 522
        }
      },
      "execution_count": 18,
      "outputs": [
        {
          "output_type": "stream",
          "name": "stdout",
          "text": [
            "Processing class: Bengin cases\n"
          ]
        },
        {
          "output_type": "stream",
          "name": "stderr",
          "text": [
            "100%|██████████| 467/467 [00:00<00:00, 4837.57it/s]\n"
          ]
        },
        {
          "output_type": "stream",
          "name": "stdout",
          "text": [
            "Processing class: Malignant cases\n"
          ]
        },
        {
          "output_type": "stream",
          "name": "stderr",
          "text": [
            "100%|██████████| 1050/1050 [00:00<00:00, 7532.29it/s]\n"
          ]
        },
        {
          "output_type": "stream",
          "name": "stdout",
          "text": [
            "Processing class: Normal cases\n"
          ]
        },
        {
          "output_type": "stream",
          "name": "stderr",
          "text": [
            "100%|██████████| 416/416 [00:00<00:00, 8071.04it/s]"
          ]
        },
        {
          "output_type": "stream",
          "name": "stdout",
          "text": [
            "✅ Data shape: (0,)\n",
            "✅ Labels shape: (0,)\n"
          ]
        },
        {
          "output_type": "stream",
          "name": "stderr",
          "text": [
            "\n"
          ]
        },
        {
          "output_type": "error",
          "ename": "ValueError",
          "evalue": "With n_samples=0, test_size=0.3 and train_size=None, the resulting train set will be empty. Adjust any of the aforementioned parameters.",
          "traceback": [
            "\u001b[0;31m---------------------------------------------------------------------------\u001b[0m",
            "\u001b[0;31mValueError\u001b[0m                                Traceback (most recent call last)",
            "\u001b[0;32m/tmp/ipython-input-72433363.py\u001b[0m in \u001b[0;36m<cell line: 0>\u001b[0;34m()\u001b[0m\n\u001b[1;32m     77\u001b[0m \u001b[0;31m# STEP 2: TRAIN/VAL/TEST SPLIT\u001b[0m\u001b[0;34m\u001b[0m\u001b[0;34m\u001b[0m\u001b[0m\n\u001b[1;32m     78\u001b[0m \u001b[0;31m# ============================================================\u001b[0m\u001b[0;34m\u001b[0m\u001b[0;34m\u001b[0m\u001b[0m\n\u001b[0;32m---> 79\u001b[0;31m X_train, X_temp, y_train, y_temp = train_test_split(\n\u001b[0m\u001b[1;32m     80\u001b[0m     \u001b[0mdata\u001b[0m\u001b[0;34m,\u001b[0m \u001b[0mlabels\u001b[0m\u001b[0;34m,\u001b[0m \u001b[0mtest_size\u001b[0m\u001b[0;34m=\u001b[0m\u001b[0;36m0.3\u001b[0m\u001b[0;34m,\u001b[0m \u001b[0mstratify\u001b[0m\u001b[0;34m=\u001b[0m\u001b[0mlabels\u001b[0m\u001b[0;34m,\u001b[0m \u001b[0mrandom_state\u001b[0m\u001b[0;34m=\u001b[0m\u001b[0mseed\u001b[0m\u001b[0;34m\u001b[0m\u001b[0;34m\u001b[0m\u001b[0m\n\u001b[1;32m     81\u001b[0m )\n",
            "\u001b[0;32m/usr/local/lib/python3.11/dist-packages/sklearn/utils/_param_validation.py\u001b[0m in \u001b[0;36mwrapper\u001b[0;34m(*args, **kwargs)\u001b[0m\n\u001b[1;32m    214\u001b[0m                     )\n\u001b[1;32m    215\u001b[0m                 ):\n\u001b[0;32m--> 216\u001b[0;31m                     \u001b[0;32mreturn\u001b[0m \u001b[0mfunc\u001b[0m\u001b[0;34m(\u001b[0m\u001b[0;34m*\u001b[0m\u001b[0margs\u001b[0m\u001b[0;34m,\u001b[0m \u001b[0;34m**\u001b[0m\u001b[0mkwargs\u001b[0m\u001b[0;34m)\u001b[0m\u001b[0;34m\u001b[0m\u001b[0;34m\u001b[0m\u001b[0m\n\u001b[0m\u001b[1;32m    217\u001b[0m             \u001b[0;32mexcept\u001b[0m \u001b[0mInvalidParameterError\u001b[0m \u001b[0;32mas\u001b[0m \u001b[0me\u001b[0m\u001b[0;34m:\u001b[0m\u001b[0;34m\u001b[0m\u001b[0;34m\u001b[0m\u001b[0m\n\u001b[1;32m    218\u001b[0m                 \u001b[0;31m# When the function is just a wrapper around an estimator, we allow\u001b[0m\u001b[0;34m\u001b[0m\u001b[0;34m\u001b[0m\u001b[0m\n",
            "\u001b[0;32m/usr/local/lib/python3.11/dist-packages/sklearn/model_selection/_split.py\u001b[0m in \u001b[0;36mtrain_test_split\u001b[0;34m(test_size, train_size, random_state, shuffle, stratify, *arrays)\u001b[0m\n\u001b[1;32m   2849\u001b[0m \u001b[0;34m\u001b[0m\u001b[0m\n\u001b[1;32m   2850\u001b[0m     \u001b[0mn_samples\u001b[0m \u001b[0;34m=\u001b[0m \u001b[0m_num_samples\u001b[0m\u001b[0;34m(\u001b[0m\u001b[0marrays\u001b[0m\u001b[0;34m[\u001b[0m\u001b[0;36m0\u001b[0m\u001b[0;34m]\u001b[0m\u001b[0;34m)\u001b[0m\u001b[0;34m\u001b[0m\u001b[0;34m\u001b[0m\u001b[0m\n\u001b[0;32m-> 2851\u001b[0;31m     n_train, n_test = _validate_shuffle_split(\n\u001b[0m\u001b[1;32m   2852\u001b[0m         \u001b[0mn_samples\u001b[0m\u001b[0;34m,\u001b[0m \u001b[0mtest_size\u001b[0m\u001b[0;34m,\u001b[0m \u001b[0mtrain_size\u001b[0m\u001b[0;34m,\u001b[0m \u001b[0mdefault_test_size\u001b[0m\u001b[0;34m=\u001b[0m\u001b[0;36m0.25\u001b[0m\u001b[0;34m\u001b[0m\u001b[0;34m\u001b[0m\u001b[0m\n\u001b[1;32m   2853\u001b[0m     )\n",
            "\u001b[0;32m/usr/local/lib/python3.11/dist-packages/sklearn/model_selection/_split.py\u001b[0m in \u001b[0;36m_validate_shuffle_split\u001b[0;34m(n_samples, test_size, train_size, default_test_size)\u001b[0m\n\u001b[1;32m   2479\u001b[0m \u001b[0;34m\u001b[0m\u001b[0m\n\u001b[1;32m   2480\u001b[0m     \u001b[0;32mif\u001b[0m \u001b[0mn_train\u001b[0m \u001b[0;34m==\u001b[0m \u001b[0;36m0\u001b[0m\u001b[0;34m:\u001b[0m\u001b[0;34m\u001b[0m\u001b[0;34m\u001b[0m\u001b[0m\n\u001b[0;32m-> 2481\u001b[0;31m         raise ValueError(\n\u001b[0m\u001b[1;32m   2482\u001b[0m             \u001b[0;34m\"With n_samples={}, test_size={} and train_size={}, the \"\u001b[0m\u001b[0;34m\u001b[0m\u001b[0;34m\u001b[0m\u001b[0m\n\u001b[1;32m   2483\u001b[0m             \u001b[0;34m\"resulting train set will be empty. Adjust any of the \"\u001b[0m\u001b[0;34m\u001b[0m\u001b[0;34m\u001b[0m\u001b[0m\n",
            "\u001b[0;31mValueError\u001b[0m: With n_samples=0, test_size=0.3 and train_size=None, the resulting train set will be empty. Adjust any of the aforementioned parameters."
          ]
        }
      ]
    },
    {
      "cell_type": "code",
      "source": [
        "import os\n",
        "import cv2\n",
        "import numpy as np\n",
        "from tqdm import tqdm\n",
        "import shutil\n",
        "from sklearn.model_selection import train_test_split\n",
        "import tensorflow as tf\n",
        "from tensorflow import keras\n",
        "from tensorflow.keras import layers\n",
        "\n",
        "# ============================================================\n",
        "# CONFIG\n",
        "# ============================================================\n",
        "raw_data_dir = \"/content/drive/MyDrive/lung cancer\"\n",
        "preprocessed_data_dir = \"/content/drive/MyDrive/lung cancer/preprocess_data\"\n",
        "\n",
        "img_size = (224, 224)\n",
        "channels = 3\n",
        "seed = 42\n",
        "batch_size = 16\n",
        "epochs = 30\n",
        "\n",
        "AUTOTUNE = tf.data.AUTOTUNE\n",
        "valid_classes = [\"Bengin cases\", \"Malignant cases\", \"Normal cases\"]\n",
        "\n",
        "# ============================================================\n",
        "# STEP 1: PREPROCESS (IMAGES ONLY)\n",
        "# ============================================================\n",
        "if os.path.exists(preprocessed_data_dir):\n",
        "    shutil.rmtree(preprocessed_data_dir)\n",
        "os.makedirs(preprocessed_data_dir, exist_ok=True)\n",
        "\n",
        "data, labels = [], []\n",
        "\n",
        "for label, class_name in enumerate(valid_classes):\n",
        "    class_path = os.path.join(raw_data_dir, class_name)\n",
        "    print(f\"Processing class: {class_name}\")\n",
        "\n",
        "    for img_name in tqdm(os.listdir(class_path)):\n",
        "        img_path = os.path.join(class_path, img_name)\n",
        "\n",
        "        # skip non-image files\n",
        "        if not img_name.lower().endswith(('.png', '.jpg', '.jpeg')):\n",
        "            continue\n",
        "\n",
        "        img = cv2.imread(img_path, cv2.IMREAD_GRAYSCALE)\n",
        "        if img is None:\n",
        "            continue\n",
        "        img = cv2.resize(img, img_size)\n",
        "        img = img.astype(np.float32) / 255.0\n",
        "        img = cv2.cvtColor(img, cv2.COLOR_GRAY2RGB)  # 3-channels\n",
        "        data.append(img)\n",
        "        labels.append(label)\n",
        "\n",
        "data = np.array(data, dtype=np.float32)\n",
        "labels = np.array(labels)\n",
        "\n",
        "print(\"✅ Data shape:\", data.shape)   # (N, 224, 224, 3)\n",
        "print(\"✅ Labels shape:\", labels.shape)\n",
        "\n",
        "# ============================================================\n",
        "# STEP 2: TRAIN/VAL/TEST SPLIT\n",
        "# ============================================================\n",
        "X_train, X_temp, y_train, y_temp = train_test_split(\n",
        "    data, labels, test_size=0.3, stratify=labels, random_state=seed\n",
        ")\n",
        "X_val, X_test, y_val, y_test = train_test_split(\n",
        "    X_temp, y_temp, test_size=0.5, stratify=y_temp, random_state=seed\n",
        ")\n",
        "\n",
        "print(\"Train:\", X_train.shape, y_train.shape)\n",
        "print(\"Val:\", X_val.shape, y_val.shape)\n",
        "print(\"Test:\", X_test.shape, y_test.shape)\n",
        "\n",
        "# ============================================================\n",
        "# STEP 3: DATA PIPELINE\n",
        "# ============================================================\n",
        "def make_ds(X, y, training=False):\n",
        "    ds = tf.data.Dataset.from_tensor_slices((X, y))\n",
        "    if training:\n",
        "        ds = ds.shuffle(1024, seed=seed, reshuffle_each_iteration=True)\n",
        "\n",
        "    def _prep(x, y):\n",
        "        return x, tf.one_hot(y, depth=len(valid_classes))\n",
        "\n",
        "    ds = ds.map(_prep, num_parallel_calls=AUTOTUNE)\n",
        "    ds = ds.batch(batch_size).prefetch(AUTOTUNE)\n",
        "    return ds\n",
        "\n",
        "train_ds = make_ds(X_train, y_train, training=True)\n",
        "val_ds   = make_ds(X_val, y_val, training=False)\n",
        "test_ds  = make_ds(X_test, y_test, training=False)\n",
        "\n",
        "# ============================================================\n",
        "# STEP 4: MODEL - InceptionV3\n",
        "# ============================================================\n",
        "base_cnn = keras.applications.InceptionV3(\n",
        "    include_top=False, weights=\"imagenet\", pooling=\"avg\", input_shape=(224,224,3)\n",
        ")\n",
        "base_cnn.trainable = False\n",
        "\n",
        "inputs = keras.Input((224,224,3))\n",
        "x = base_cnn(inputs, training=False)\n",
        "x = layers.Dense(256, activation=\"relu\")(x)\n",
        "x = layers.Dropout(0.5)(x)\n",
        "outputs = layers.Dense(len(valid_classes), activation=\"softmax\")(x)\n",
        "\n",
        "model = keras.Model(inputs, outputs)\n",
        "model.summary()\n",
        "\n",
        "# ============================================================\n",
        "# STEP 5: TRAINING\n",
        "# ============================================================\n",
        "opt = keras.optimizers.Adam(1e-4)\n",
        "model.compile(\n",
        "    optimizer=opt,\n",
        "    loss=\"categorical_crossentropy\",\n",
        "    metrics=[\n",
        "        \"accuracy\",\n",
        "        keras.metrics.AUC(name=\"auc\"),\n",
        "        keras.metrics.Precision(name=\"precision\"),\n",
        "        keras.metrics.Recall(name=\"recall\")\n",
        "    ]\n",
        ")\n",
        "\n",
        "cbs = [\n",
        "    keras.callbacks.ModelCheckpoint(\n",
        "        \"/content/drive/MyDrive/lung cancer/best_cnn_inception.keras\",\n",
        "        save_best_only=True,\n",
        "        monitor=\"val_auc\",\n",
        "        mode=\"max\"\n",
        "    ),\n",
        "    keras.callbacks.EarlyStopping(monitor=\"val_auc\", patience=5, mode=\"max\", restore_best_weights=True)\n",
        "]\n",
        "\n",
        "history = model.fit(\n",
        "    train_ds,\n",
        "    validation_data=val_ds,\n",
        "    epochs=epochs,\n",
        "    callbacks=cbs,\n",
        "    verbose=1\n",
        ")\n",
        "\n",
        "# ============================================================\n",
        "# STEP 6: EVALUATION\n",
        "# ============================================================\n",
        "results = model.evaluate(test_ds)\n",
        "print(\"✅ Test Results:\", dict(zip(model.metrics_names, results)))\n"
      ],
      "metadata": {
        "id": "W2MYiYKk2DVo",
        "outputId": "54da693b-1dde-44b0-8693-0fb3eeed0ca8",
        "colab": {
          "base_uri": "https://localhost:8080/",
          "height": 1000
        }
      },
      "execution_count": 19,
      "outputs": [
        {
          "output_type": "stream",
          "name": "stdout",
          "text": [
            "Processing class: Bengin cases\n"
          ]
        },
        {
          "output_type": "stream",
          "name": "stderr",
          "text": [
            "100%|██████████| 467/467 [00:06<00:00, 66.76it/s] \n"
          ]
        },
        {
          "output_type": "stream",
          "name": "stdout",
          "text": [
            "Processing class: Malignant cases\n"
          ]
        },
        {
          "output_type": "stream",
          "name": "stderr",
          "text": [
            "100%|██████████| 1050/1050 [00:19<00:00, 53.29it/s]\n"
          ]
        },
        {
          "output_type": "stream",
          "name": "stdout",
          "text": [
            "Processing class: Normal cases\n"
          ]
        },
        {
          "output_type": "stream",
          "name": "stderr",
          "text": [
            "100%|██████████| 416/416 [00:07<00:00, 52.99it/s]\n"
          ]
        },
        {
          "output_type": "stream",
          "name": "stdout",
          "text": [
            "✅ Data shape: (1933, 224, 224, 3)\n",
            "✅ Labels shape: (1933,)\n",
            "Train: (1353, 224, 224, 3) (1353,)\n",
            "Val: (290, 224, 224, 3) (290,)\n",
            "Test: (290, 224, 224, 3) (290,)\n",
            "Downloading data from https://storage.googleapis.com/tensorflow/keras-applications/inception_v3/inception_v3_weights_tf_dim_ordering_tf_kernels_notop.h5\n",
            "\u001b[1m87910968/87910968\u001b[0m \u001b[32m━━━━━━━━━━━━━━━━━━━━\u001b[0m\u001b[37m\u001b[0m \u001b[1m1s\u001b[0m 0us/step\n"
          ]
        },
        {
          "output_type": "display_data",
          "data": {
            "text/plain": [
              "\u001b[1mModel: \"functional\"\u001b[0m\n"
            ],
            "text/html": [
              "<pre style=\"white-space:pre;overflow-x:auto;line-height:normal;font-family:Menlo,'DejaVu Sans Mono',consolas,'Courier New',monospace\"><span style=\"font-weight: bold\">Model: \"functional\"</span>\n",
              "</pre>\n"
            ]
          },
          "metadata": {}
        },
        {
          "output_type": "display_data",
          "data": {
            "text/plain": [
              "┏━━━━━━━━━━━━━━━━━━━━━━━━━━━━━━━━━┳━━━━━━━━━━━━━━━━━━━━━━━━┳━━━━━━━━━━━━━━━┓\n",
              "┃\u001b[1m \u001b[0m\u001b[1mLayer (type)                   \u001b[0m\u001b[1m \u001b[0m┃\u001b[1m \u001b[0m\u001b[1mOutput Shape          \u001b[0m\u001b[1m \u001b[0m┃\u001b[1m \u001b[0m\u001b[1m      Param #\u001b[0m\u001b[1m \u001b[0m┃\n",
              "┡━━━━━━━━━━━━━━━━━━━━━━━━━━━━━━━━━╇━━━━━━━━━━━━━━━━━━━━━━━━╇━━━━━━━━━━━━━━━┩\n",
              "│ input_layer_3 (\u001b[38;5;33mInputLayer\u001b[0m)      │ (\u001b[38;5;45mNone\u001b[0m, \u001b[38;5;34m224\u001b[0m, \u001b[38;5;34m224\u001b[0m, \u001b[38;5;34m3\u001b[0m)    │             \u001b[38;5;34m0\u001b[0m │\n",
              "├─────────────────────────────────┼────────────────────────┼───────────────┤\n",
              "│ inception_v3 (\u001b[38;5;33mFunctional\u001b[0m)       │ (\u001b[38;5;45mNone\u001b[0m, \u001b[38;5;34m2048\u001b[0m)           │    \u001b[38;5;34m21,802,784\u001b[0m │\n",
              "├─────────────────────────────────┼────────────────────────┼───────────────┤\n",
              "│ dense_1 (\u001b[38;5;33mDense\u001b[0m)                 │ (\u001b[38;5;45mNone\u001b[0m, \u001b[38;5;34m256\u001b[0m)            │       \u001b[38;5;34m524,544\u001b[0m │\n",
              "├─────────────────────────────────┼────────────────────────┼───────────────┤\n",
              "│ dropout_2 (\u001b[38;5;33mDropout\u001b[0m)             │ (\u001b[38;5;45mNone\u001b[0m, \u001b[38;5;34m256\u001b[0m)            │             \u001b[38;5;34m0\u001b[0m │\n",
              "├─────────────────────────────────┼────────────────────────┼───────────────┤\n",
              "│ dense_2 (\u001b[38;5;33mDense\u001b[0m)                 │ (\u001b[38;5;45mNone\u001b[0m, \u001b[38;5;34m3\u001b[0m)              │           \u001b[38;5;34m771\u001b[0m │\n",
              "└─────────────────────────────────┴────────────────────────┴───────────────┘\n"
            ],
            "text/html": [
              "<pre style=\"white-space:pre;overflow-x:auto;line-height:normal;font-family:Menlo,'DejaVu Sans Mono',consolas,'Courier New',monospace\">┏━━━━━━━━━━━━━━━━━━━━━━━━━━━━━━━━━┳━━━━━━━━━━━━━━━━━━━━━━━━┳━━━━━━━━━━━━━━━┓\n",
              "┃<span style=\"font-weight: bold\"> Layer (type)                    </span>┃<span style=\"font-weight: bold\"> Output Shape           </span>┃<span style=\"font-weight: bold\">       Param # </span>┃\n",
              "┡━━━━━━━━━━━━━━━━━━━━━━━━━━━━━━━━━╇━━━━━━━━━━━━━━━━━━━━━━━━╇━━━━━━━━━━━━━━━┩\n",
              "│ input_layer_3 (<span style=\"color: #0087ff; text-decoration-color: #0087ff\">InputLayer</span>)      │ (<span style=\"color: #00d7ff; text-decoration-color: #00d7ff\">None</span>, <span style=\"color: #00af00; text-decoration-color: #00af00\">224</span>, <span style=\"color: #00af00; text-decoration-color: #00af00\">224</span>, <span style=\"color: #00af00; text-decoration-color: #00af00\">3</span>)    │             <span style=\"color: #00af00; text-decoration-color: #00af00\">0</span> │\n",
              "├─────────────────────────────────┼────────────────────────┼───────────────┤\n",
              "│ inception_v3 (<span style=\"color: #0087ff; text-decoration-color: #0087ff\">Functional</span>)       │ (<span style=\"color: #00d7ff; text-decoration-color: #00d7ff\">None</span>, <span style=\"color: #00af00; text-decoration-color: #00af00\">2048</span>)           │    <span style=\"color: #00af00; text-decoration-color: #00af00\">21,802,784</span> │\n",
              "├─────────────────────────────────┼────────────────────────┼───────────────┤\n",
              "│ dense_1 (<span style=\"color: #0087ff; text-decoration-color: #0087ff\">Dense</span>)                 │ (<span style=\"color: #00d7ff; text-decoration-color: #00d7ff\">None</span>, <span style=\"color: #00af00; text-decoration-color: #00af00\">256</span>)            │       <span style=\"color: #00af00; text-decoration-color: #00af00\">524,544</span> │\n",
              "├─────────────────────────────────┼────────────────────────┼───────────────┤\n",
              "│ dropout_2 (<span style=\"color: #0087ff; text-decoration-color: #0087ff\">Dropout</span>)             │ (<span style=\"color: #00d7ff; text-decoration-color: #00d7ff\">None</span>, <span style=\"color: #00af00; text-decoration-color: #00af00\">256</span>)            │             <span style=\"color: #00af00; text-decoration-color: #00af00\">0</span> │\n",
              "├─────────────────────────────────┼────────────────────────┼───────────────┤\n",
              "│ dense_2 (<span style=\"color: #0087ff; text-decoration-color: #0087ff\">Dense</span>)                 │ (<span style=\"color: #00d7ff; text-decoration-color: #00d7ff\">None</span>, <span style=\"color: #00af00; text-decoration-color: #00af00\">3</span>)              │           <span style=\"color: #00af00; text-decoration-color: #00af00\">771</span> │\n",
              "└─────────────────────────────────┴────────────────────────┴───────────────┘\n",
              "</pre>\n"
            ]
          },
          "metadata": {}
        },
        {
          "output_type": "display_data",
          "data": {
            "text/plain": [
              "\u001b[1m Total params: \u001b[0m\u001b[38;5;34m22,328,099\u001b[0m (85.17 MB)\n"
            ],
            "text/html": [
              "<pre style=\"white-space:pre;overflow-x:auto;line-height:normal;font-family:Menlo,'DejaVu Sans Mono',consolas,'Courier New',monospace\"><span style=\"font-weight: bold\"> Total params: </span><span style=\"color: #00af00; text-decoration-color: #00af00\">22,328,099</span> (85.17 MB)\n",
              "</pre>\n"
            ]
          },
          "metadata": {}
        },
        {
          "output_type": "display_data",
          "data": {
            "text/plain": [
              "\u001b[1m Trainable params: \u001b[0m\u001b[38;5;34m525,315\u001b[0m (2.00 MB)\n"
            ],
            "text/html": [
              "<pre style=\"white-space:pre;overflow-x:auto;line-height:normal;font-family:Menlo,'DejaVu Sans Mono',consolas,'Courier New',monospace\"><span style=\"font-weight: bold\"> Trainable params: </span><span style=\"color: #00af00; text-decoration-color: #00af00\">525,315</span> (2.00 MB)\n",
              "</pre>\n"
            ]
          },
          "metadata": {}
        },
        {
          "output_type": "display_data",
          "data": {
            "text/plain": [
              "\u001b[1m Non-trainable params: \u001b[0m\u001b[38;5;34m21,802,784\u001b[0m (83.17 MB)\n"
            ],
            "text/html": [
              "<pre style=\"white-space:pre;overflow-x:auto;line-height:normal;font-family:Menlo,'DejaVu Sans Mono',consolas,'Courier New',monospace\"><span style=\"font-weight: bold\"> Non-trainable params: </span><span style=\"color: #00af00; text-decoration-color: #00af00\">21,802,784</span> (83.17 MB)\n",
              "</pre>\n"
            ]
          },
          "metadata": {}
        },
        {
          "output_type": "stream",
          "name": "stdout",
          "text": [
            "Epoch 1/30\n",
            "\u001b[1m85/85\u001b[0m \u001b[32m━━━━━━━━━━━━━━━━━━━━\u001b[0m\u001b[37m\u001b[0m \u001b[1m249s\u001b[0m 3s/step - accuracy: 0.6084 - auc: 0.7881 - loss: 0.8873 - precision: 0.6263 - recall: 0.5498 - val_accuracy: 0.8000 - val_auc: 0.9555 - val_loss: 0.3927 - val_precision: 0.8156 - val_recall: 0.7931\n",
            "Epoch 2/30\n",
            "\u001b[1m85/85\u001b[0m \u001b[32m━━━━━━━━━━━━━━━━━━━━\u001b[0m\u001b[37m\u001b[0m \u001b[1m262s\u001b[0m 3s/step - accuracy: 0.7971 - auc: 0.9436 - loss: 0.4415 - precision: 0.8138 - recall: 0.7751 - val_accuracy: 0.8621 - val_auc: 0.9740 - val_loss: 0.3155 - val_precision: 0.8719 - val_recall: 0.8448\n",
            "Epoch 3/30\n",
            "\u001b[1m85/85\u001b[0m \u001b[32m━━━━━━━━━━━━━━━━━━━━\u001b[0m\u001b[37m\u001b[0m \u001b[1m256s\u001b[0m 3s/step - accuracy: 0.8431 - auc: 0.9655 - loss: 0.3481 - precision: 0.8482 - recall: 0.8357 - val_accuracy: 0.8586 - val_auc: 0.9711 - val_loss: 0.3175 - val_precision: 0.8581 - val_recall: 0.8552\n",
            "Epoch 4/30\n",
            "\u001b[1m85/85\u001b[0m \u001b[32m━━━━━━━━━━━━━━━━━━━━\u001b[0m\u001b[37m\u001b[0m \u001b[1m269s\u001b[0m 3s/step - accuracy: 0.8785 - auc: 0.9732 - loss: 0.3074 - precision: 0.8832 - recall: 0.8696 - val_accuracy: 0.8621 - val_auc: 0.9741 - val_loss: 0.2924 - val_precision: 0.8646 - val_recall: 0.8586\n",
            "Epoch 5/30\n",
            "\u001b[1m85/85\u001b[0m \u001b[32m━━━━━━━━━━━━━━━━━━━━\u001b[0m\u001b[37m\u001b[0m \u001b[1m254s\u001b[0m 3s/step - accuracy: 0.8905 - auc: 0.9797 - loss: 0.2696 - precision: 0.8959 - recall: 0.8858 - val_accuracy: 0.8793 - val_auc: 0.9792 - val_loss: 0.2676 - val_precision: 0.8824 - val_recall: 0.8793\n",
            "Epoch 6/30\n",
            "\u001b[1m85/85\u001b[0m \u001b[32m━━━━━━━━━━━━━━━━━━━━\u001b[0m\u001b[37m\u001b[0m \u001b[1m272s\u001b[0m 3s/step - accuracy: 0.8990 - auc: 0.9810 - loss: 0.2531 - precision: 0.9005 - recall: 0.8934 - val_accuracy: 0.8897 - val_auc: 0.9804 - val_loss: 0.2619 - val_precision: 0.8990 - val_recall: 0.8897\n",
            "Epoch 7/30\n",
            "\u001b[1m85/85\u001b[0m \u001b[32m━━━━━━━━━━━━━━━━━━━━\u001b[0m\u001b[37m\u001b[0m \u001b[1m281s\u001b[0m 3s/step - accuracy: 0.8857 - auc: 0.9792 - loss: 0.2675 - precision: 0.8882 - recall: 0.8818 - val_accuracy: 0.8828 - val_auc: 0.9814 - val_loss: 0.2501 - val_precision: 0.8828 - val_recall: 0.8828\n",
            "Epoch 8/30\n",
            "\u001b[1m85/85\u001b[0m \u001b[32m━━━━━━━━━━━━━━━━━━━━\u001b[0m\u001b[37m\u001b[0m \u001b[1m262s\u001b[0m 3s/step - accuracy: 0.9038 - auc: 0.9833 - loss: 0.2412 - precision: 0.9059 - recall: 0.9016 - val_accuracy: 0.8931 - val_auc: 0.9838 - val_loss: 0.2370 - val_precision: 0.8931 - val_recall: 0.8931\n",
            "Epoch 9/30\n",
            "\u001b[1m85/85\u001b[0m \u001b[32m━━━━━━━━━━━━━━━━━━━━\u001b[0m\u001b[37m\u001b[0m \u001b[1m261s\u001b[0m 3s/step - accuracy: 0.9061 - auc: 0.9883 - loss: 0.2083 - precision: 0.9070 - recall: 0.9032 - val_accuracy: 0.8931 - val_auc: 0.9846 - val_loss: 0.2280 - val_precision: 0.8931 - val_recall: 0.8931\n",
            "Epoch 10/30\n",
            "\u001b[1m85/85\u001b[0m \u001b[32m━━━━━━━━━━━━━━━━━━━━\u001b[0m\u001b[37m\u001b[0m \u001b[1m262s\u001b[0m 3s/step - accuracy: 0.9112 - auc: 0.9886 - loss: 0.2038 - precision: 0.9136 - recall: 0.9104 - val_accuracy: 0.8828 - val_auc: 0.9826 - val_loss: 0.2402 - val_precision: 0.8858 - val_recall: 0.8828\n",
            "Epoch 11/30\n",
            "\u001b[1m85/85\u001b[0m \u001b[32m━━━━━━━━━━━━━━━━━━━━\u001b[0m\u001b[37m\u001b[0m \u001b[1m262s\u001b[0m 3s/step - accuracy: 0.9221 - auc: 0.9909 - loss: 0.1863 - precision: 0.9235 - recall: 0.9208 - val_accuracy: 0.8897 - val_auc: 0.9861 - val_loss: 0.2148 - val_precision: 0.8897 - val_recall: 0.8897\n",
            "Epoch 12/30\n",
            "\u001b[1m85/85\u001b[0m \u001b[32m━━━━━━━━━━━━━━━━━━━━\u001b[0m\u001b[37m\u001b[0m \u001b[1m262s\u001b[0m 3s/step - accuracy: 0.9200 - auc: 0.9898 - loss: 0.1941 - precision: 0.9200 - recall: 0.9194 - val_accuracy: 0.8793 - val_auc: 0.9836 - val_loss: 0.2309 - val_precision: 0.8793 - val_recall: 0.8793\n",
            "Epoch 13/30\n",
            "\u001b[1m85/85\u001b[0m \u001b[32m━━━━━━━━━━━━━━━━━━━━\u001b[0m\u001b[37m\u001b[0m \u001b[1m263s\u001b[0m 3s/step - accuracy: 0.9401 - auc: 0.9925 - loss: 0.1654 - precision: 0.9402 - recall: 0.9389 - val_accuracy: 0.9034 - val_auc: 0.9874 - val_loss: 0.2087 - val_precision: 0.9066 - val_recall: 0.9034\n",
            "Epoch 14/30\n",
            "\u001b[1m85/85\u001b[0m \u001b[32m━━━━━━━━━━━━━━━━━━━━\u001b[0m\u001b[37m\u001b[0m \u001b[1m260s\u001b[0m 3s/step - accuracy: 0.9437 - auc: 0.9933 - loss: 0.1562 - precision: 0.9437 - recall: 0.9437 - val_accuracy: 0.8897 - val_auc: 0.9850 - val_loss: 0.2188 - val_precision: 0.8897 - val_recall: 0.8897\n",
            "Epoch 15/30\n",
            "\u001b[1m85/85\u001b[0m \u001b[32m━━━━━━━━━━━━━━━━━━━━\u001b[0m\u001b[37m\u001b[0m \u001b[1m262s\u001b[0m 3s/step - accuracy: 0.9400 - auc: 0.9941 - loss: 0.1528 - precision: 0.9411 - recall: 0.9386 - val_accuracy: 0.8931 - val_auc: 0.9843 - val_loss: 0.2264 - val_precision: 0.8931 - val_recall: 0.8931\n",
            "Epoch 16/30\n",
            "\u001b[1m85/85\u001b[0m \u001b[32m━━━━━━━━━━━━━━━━━━━━\u001b[0m\u001b[37m\u001b[0m \u001b[1m229s\u001b[0m 3s/step - accuracy: 0.9424 - auc: 0.9949 - loss: 0.1449 - precision: 0.9466 - recall: 0.9421 - val_accuracy: 0.9000 - val_auc: 0.9874 - val_loss: 0.2014 - val_precision: 0.9000 - val_recall: 0.9000\n",
            "Epoch 17/30\n",
            "\u001b[1m85/85\u001b[0m \u001b[32m━━━━━━━━━━━━━━━━━━━━\u001b[0m\u001b[37m\u001b[0m \u001b[1m264s\u001b[0m 3s/step - accuracy: 0.9424 - auc: 0.9944 - loss: 0.1459 - precision: 0.9429 - recall: 0.9424 - val_accuracy: 0.9069 - val_auc: 0.9888 - val_loss: 0.1936 - val_precision: 0.9069 - val_recall: 0.9069\n",
            "Epoch 18/30\n",
            "\u001b[1m85/85\u001b[0m \u001b[32m━━━━━━━━━━━━━━━━━━━━\u001b[0m\u001b[37m\u001b[0m \u001b[1m259s\u001b[0m 3s/step - accuracy: 0.9490 - auc: 0.9953 - loss: 0.1375 - precision: 0.9488 - recall: 0.9457 - val_accuracy: 0.8966 - val_auc: 0.9858 - val_loss: 0.2154 - val_precision: 0.8966 - val_recall: 0.8966\n",
            "Epoch 19/30\n",
            "\u001b[1m85/85\u001b[0m \u001b[32m━━━━━━━━━━━━━━━━━━━━\u001b[0m\u001b[37m\u001b[0m \u001b[1m266s\u001b[0m 3s/step - accuracy: 0.9462 - auc: 0.9956 - loss: 0.1340 - precision: 0.9463 - recall: 0.9462 - val_accuracy: 0.9241 - val_auc: 0.9889 - val_loss: 0.1933 - val_precision: 0.9241 - val_recall: 0.9241\n",
            "Epoch 20/30\n",
            "\u001b[1m85/85\u001b[0m \u001b[32m━━━━━━━━━━━━━━━━━━━━\u001b[0m\u001b[37m\u001b[0m \u001b[1m231s\u001b[0m 3s/step - accuracy: 0.9444 - auc: 0.9942 - loss: 0.1438 - precision: 0.9443 - recall: 0.9426 - val_accuracy: 0.8897 - val_auc: 0.9867 - val_loss: 0.2093 - val_precision: 0.8897 - val_recall: 0.8897\n",
            "Epoch 21/30\n",
            "\u001b[1m85/85\u001b[0m \u001b[32m━━━━━━━━━━━━━━━━━━━━\u001b[0m\u001b[37m\u001b[0m \u001b[1m259s\u001b[0m 3s/step - accuracy: 0.9477 - auc: 0.9959 - loss: 0.1276 - precision: 0.9478 - recall: 0.9472 - val_accuracy: 0.9069 - val_auc: 0.9888 - val_loss: 0.1912 - val_precision: 0.9069 - val_recall: 0.9069\n",
            "Epoch 22/30\n",
            "\u001b[1m85/85\u001b[0m \u001b[32m━━━━━━━━━━━━━━━━━━━━\u001b[0m\u001b[37m\u001b[0m \u001b[1m305s\u001b[0m 3s/step - accuracy: 0.9652 - auc: 0.9971 - loss: 0.1077 - precision: 0.9652 - recall: 0.9652 - val_accuracy: 0.8897 - val_auc: 0.9869 - val_loss: 0.2053 - val_precision: 0.8897 - val_recall: 0.8897\n",
            "Epoch 23/30\n",
            "\u001b[1m85/85\u001b[0m \u001b[32m━━━━━━━━━━━━━━━━━━━━\u001b[0m\u001b[37m\u001b[0m \u001b[1m325s\u001b[0m 3s/step - accuracy: 0.9650 - auc: 0.9979 - loss: 0.1051 - precision: 0.9649 - recall: 0.9636 - val_accuracy: 0.9241 - val_auc: 0.9902 - val_loss: 0.1799 - val_precision: 0.9241 - val_recall: 0.9241\n",
            "Epoch 24/30\n",
            "\u001b[1m85/85\u001b[0m \u001b[32m━━━━━━━━━━━━━━━━━━━━\u001b[0m\u001b[37m\u001b[0m \u001b[1m320s\u001b[0m 3s/step - accuracy: 0.9687 - auc: 0.9972 - loss: 0.1057 - precision: 0.9690 - recall: 0.9687 - val_accuracy: 0.9276 - val_auc: 0.9900 - val_loss: 0.1828 - val_precision: 0.9276 - val_recall: 0.9276\n",
            "Epoch 25/30\n",
            "\u001b[1m85/85\u001b[0m \u001b[32m━━━━━━━━━━━━━━━━━━━━\u001b[0m\u001b[37m\u001b[0m \u001b[1m280s\u001b[0m 3s/step - accuracy: 0.9605 - auc: 0.9979 - loss: 0.1047 - precision: 0.9605 - recall: 0.9605 - val_accuracy: 0.9103 - val_auc: 0.9887 - val_loss: 0.1889 - val_precision: 0.9103 - val_recall: 0.9103\n",
            "Epoch 26/30\n",
            "\u001b[1m85/85\u001b[0m \u001b[32m━━━━━━━━━━━━━━━━━━━━\u001b[0m\u001b[37m\u001b[0m \u001b[1m262s\u001b[0m 3s/step - accuracy: 0.9743 - auc: 0.9987 - loss: 0.0889 - precision: 0.9744 - recall: 0.9739 - val_accuracy: 0.9172 - val_auc: 0.9894 - val_loss: 0.1860 - val_precision: 0.9172 - val_recall: 0.9172\n",
            "Epoch 27/30\n",
            "\u001b[1m85/85\u001b[0m \u001b[32m━━━━━━━━━━━━━━━━━━━━\u001b[0m\u001b[37m\u001b[0m \u001b[1m263s\u001b[0m 3s/step - accuracy: 0.9676 - auc: 0.9984 - loss: 0.0901 - precision: 0.9676 - recall: 0.9676 - val_accuracy: 0.9207 - val_auc: 0.9908 - val_loss: 0.1747 - val_precision: 0.9207 - val_recall: 0.9207\n",
            "Epoch 28/30\n",
            "\u001b[1m85/85\u001b[0m \u001b[32m━━━━━━━━━━━━━━━━━━━━\u001b[0m\u001b[37m\u001b[0m \u001b[1m262s\u001b[0m 3s/step - accuracy: 0.9779 - auc: 0.9986 - loss: 0.0881 - precision: 0.9779 - recall: 0.9779 - val_accuracy: 0.9241 - val_auc: 0.9912 - val_loss: 0.1722 - val_precision: 0.9241 - val_recall: 0.9241\n",
            "Epoch 29/30\n",
            "\u001b[1m85/85\u001b[0m \u001b[32m━━━━━━━━━━━━━━━━━━━━\u001b[0m\u001b[37m\u001b[0m \u001b[1m261s\u001b[0m 3s/step - accuracy: 0.9798 - auc: 0.9991 - loss: 0.0796 - precision: 0.9802 - recall: 0.9798 - val_accuracy: 0.9103 - val_auc: 0.9892 - val_loss: 0.1882 - val_precision: 0.9103 - val_recall: 0.9103\n",
            "Epoch 30/30\n",
            "\u001b[1m85/85\u001b[0m \u001b[32m━━━━━━━━━━━━━━━━━━━━\u001b[0m\u001b[37m\u001b[0m \u001b[1m261s\u001b[0m 3s/step - accuracy: 0.9768 - auc: 0.9990 - loss: 0.0749 - precision: 0.9772 - recall: 0.9768 - val_accuracy: 0.9241 - val_auc: 0.9907 - val_loss: 0.1752 - val_precision: 0.9241 - val_recall: 0.9241\n",
            "\u001b[1m19/19\u001b[0m \u001b[32m━━━━━━━━━━━━━━━━━━━━\u001b[0m\u001b[37m\u001b[0m \u001b[1m42s\u001b[0m 2s/step - accuracy: 0.9210 - auc: 0.9913 - loss: 0.1749 - precision: 0.9210 - recall: 0.9210\n",
            "✅ Test Results: {'loss': 0.17687159776687622, 'compile_metrics': 0.9241379499435425}\n"
          ]
        }
      ]
    },
    {
      "cell_type": "code",
      "source": [],
      "metadata": {
        "id": "bSflVgeCXifi"
      },
      "execution_count": null,
      "outputs": []
    },
    {
      "cell_type": "code",
      "source": [
        "import matplotlib.pyplot as plt\n",
        "from sklearn.metrics import confusion_matrix, classification_report\n",
        "import seaborn as sns\n",
        "\n",
        "# ============================================================\n",
        "# PLOT TRAINING CURVES\n",
        "# ============================================================\n",
        "def plot_training(history):\n",
        "    acc = history.history['accuracy']\n",
        "    val_acc = history.history['val_accuracy']\n",
        "    loss = history.history['loss']\n",
        "    val_loss = history.history['val_loss']\n",
        "\n",
        "    plt.figure(figsize=(12,5))\n",
        "\n",
        "    # Accuracy\n",
        "    plt.subplot(1,2,1)\n",
        "    plt.plot(acc, label='Train Acc')\n",
        "    plt.plot(val_acc, label='Val Acc')\n",
        "    plt.title('Accuracy over epochs')\n",
        "    plt.xlabel('Epochs')\n",
        "    plt.ylabel('Accuracy')\n",
        "    plt.legend()\n",
        "\n",
        "    # Loss\n",
        "    plt.subplot(1,2,2)\n",
        "    plt.plot(loss, label='Train Loss')\n",
        "    plt.plot(val_loss, label='Val Loss')\n",
        "    plt.title('Loss over epochs')\n",
        "    plt.xlabel('Epochs')\n",
        "    plt.ylabel('Loss')\n",
        "    plt.legend()\n",
        "\n",
        "    plt.show()\n",
        "\n",
        "plot_training(history)\n",
        "\n",
        "# ============================================================\n",
        "# CONFUSION MATRIX & CLASSIFICATION REPORT\n",
        "# ============================================================\n",
        "# Get predictions\n",
        "y_pred = model.predict(test_ds)\n",
        "y_pred_classes = np.argmax(y_pred, axis=1)\n",
        "\n",
        "# True labels\n",
        "y_true = np.concatenate([y for x, y in test_ds], axis=0)\n",
        "y_true = np.argmax(y_true, axis=1)\n",
        "\n",
        "# Confusion Matrix\n",
        "cm = confusion_matrix(y_true, y_pred_classes)\n",
        "plt.figure(figsize=(6,5))\n",
        "sns.heatmap(cm, annot=True, fmt=\"d\", cmap=\"Blues\",\n",
        "            xticklabels=valid_classes,\n",
        "            yticklabels=valid_classes)\n",
        "plt.xlabel(\"Predicted\")\n",
        "plt.ylabel(\"True\")\n",
        "plt.title(\"Confusion Matrix\")\n",
        "plt.show()\n",
        "\n",
        "# Classification Report\n",
        "print(\"Classification Report:\")\n",
        "print(classification_report(y_true, y_pred_classes, target_names=valid_classes))\n"
      ],
      "metadata": {
        "id": "P1sBYNgzWH6k",
        "outputId": "658508a5-84af-4f82-d7b2-841915a96358",
        "colab": {
          "base_uri": "https://localhost:8080/",
          "height": 1000
        }
      },
      "execution_count": 20,
      "outputs": [
        {
          "output_type": "display_data",
          "data": {
            "text/plain": [
              "<Figure size 1200x500 with 2 Axes>"
            ],
            "image/png": "[encoded data removed]"
          },
          "metadata": {}
        },
        {
          "output_type": "stream",
          "name": "stdout",
          "text": [
            "\u001b[1m19/19\u001b[0m \u001b[32m━━━━━━━━━━━━━━━━━━━━\u001b[0m\u001b[37m\u001b[0m \u001b[1m55s\u001b[0m 2s/step\n"
          ]
        },
        {
          "output_type": "display_data",
          "data": {
            "text/plain": [
              "<Figure size 600x500 with 2 Axes>"
            ],
            "image/png": "[encoded data removed]"
          },
          "metadata": {}
        },
        {
          "output_type": "stream",
          "name": "stdout",
          "text": [
            "Classification Report:\n",
            "                 precision    recall  f1-score   support\n",
            "\n",
            "   Bengin cases       0.90      0.77      0.83        70\n",
            "Malignant cases       0.90      0.96      0.93       157\n",
            "   Normal cases       1.00      1.00      1.00        63\n",
            "\n",
            "       accuracy                           0.92       290\n",
            "      macro avg       0.93      0.91      0.92       290\n",
            "   weighted avg       0.92      0.92      0.92       290\n",
            "\n"
          ]
        }
      ]
    },
    {
      "cell_type": "code",
      "source": [
        "import os\n",
        "\n",
        "base_dir = \"/content/drive/MyDrive/lung cancer\"\n",
        "\n",
        "for class_name in os.listdir(base_dir):\n",
        "    class_path = os.path.join(base_dir, class_name)\n",
        "    if os.path.isdir(class_path):\n",
        "        print(f\"\\nClass: {class_name}\")\n",
        "        items = os.listdir(class_path)\n",
        "        print(\"  Sample files:\", items[:5])   # show first 5 items\n",
        "        print(\"  Total items:\", len(items))\n"
      ],
      "metadata": {
        "id": "EIm4i4swXmRe",
        "outputId": "9de8d243-52c6-4039-9863-0e01a2462a1b",
        "colab": {
          "base_uri": "https://localhost:8080/"
        }
      },
      "execution_count": 23,
      "outputs": [
        {
          "output_type": "stream",
          "name": "stdout",
          "text": [
            "\n",
            "Class: Normal cases\n",
            "  Sample files: ['Normal case (125).jpg', 'Normal case (136).jpg', 'Normal case (132).jpg', 'Normal case (121).jpg', 'Normal case (115).jpg']\n",
            "  Total items: 416\n",
            "\n",
            "Class: Malignant cases\n",
            "  Sample files: ['Malignant (1024).JPG', 'Malignant (109).JPG', 'Malignant (1025).JPG', 'Malignant (1041).JPG', 'Malignant (102).JPG']\n",
            "  Total items: 1050\n",
            "\n",
            "Class: Bengin cases\n",
            "  Sample files: ['Benign (100).JPG', 'Benign (101).JPG', 'Benign (102).JPG', 'Benign (10).JPG', 'Benign (1).JPG']\n",
            "  Total items: 467\n",
            "\n",
            "Class: preprocess data\n",
            "  Sample files: []\n",
            "  Total items: 0\n",
            "\n",
            "Class: preprocess_data_seq\n",
            "  Sample files: ['data.npy', 'labels.npy']\n",
            "  Total items: 2\n",
            "\n",
            "Class: preprocess_data\n",
            "  Sample files: []\n",
            "  Total items: 0\n"
          ]
        }
      ]
    },
    {
      "cell_type": "code",
      "source": [],
      "metadata": {
        "id": "Fm_6WcY2XmQe"
      },
      "execution_count": null,
      "outputs": []
    }
  ],
  "metadata": {
    "colab": {
      "provenance": []
    },
    "kernelspec": {
      "name": "python3",
      "display_name": "Python 3"
    },
    "language_info": {
      "name": "python"
    }
  },
  "nbformat": 4,
  "nbformat_minor": 0
}